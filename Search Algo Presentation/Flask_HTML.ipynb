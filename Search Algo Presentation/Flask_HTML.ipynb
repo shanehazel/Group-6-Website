{
 "cells": [
  {
   "cell_type": "markdown",
   "metadata": {},
   "source": [
    "# Introduction to Flask\n",
    "Flask is a lightweight web framework written in Python. It's designed to make getting started with web development easy, while also being flexible enough to serve as the foundation for large applications."
   ]
  },
  {
   "cell_type": "markdown",
   "metadata": {},
   "source": [
    "## Key features:\n",
    "\n",
    "Minimalistic and easy to get started\n",
    "Extensibility to add more features as your application grows\n",
    "Built-in development server \n",
    "RESTful request dispatching\n",
    "Uses Jinja2 templating"
   ]
  },
  {
   "cell_type": "markdown",
   "metadata": {},
   "source": [
    "# First, we need to install Flask on your working directory\n",
    "pip install Flask"
   ]
  },
  {
   "cell_type": "markdown",
   "metadata": {},
   "source": [
    "HTML cheat sheet . a quick guide\n",
    "https://web.stanford.edu/group/csp/cs21/htmlcheatsheet.pdf\n",
    "\n"
   ]
  },
  {
   "cell_type": "markdown",
   "metadata": {},
   "source": [
    "Laboratory Exercise 4.\n",
    "\n",
    "Follow the instruction on the sample Flask code\n"
   ]
  }
 ],
 "metadata": {
  "kernelspec": {
   "display_name": "Python 3 (ipykernel)",
   "language": "python",
   "name": "python3"
  },
  "language_info": {
   "codemirror_mode": {
    "name": "ipython",
    "version": 3
   },
   "file_extension": ".py",
   "mimetype": "text/x-python",
   "name": "python",
   "nbconvert_exporter": "python",
   "pygments_lexer": "ipython3",
   "version": "3.11.0"
  }
 },
 "nbformat": 4,
 "nbformat_minor": 4
}
